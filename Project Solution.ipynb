{
 "cells": [
  {
   "cell_type": "code",
   "execution_count": null,
   "metadata": {},
   "outputs": [],
   "source": [
    "#Decomposing the video into frames\n",
    "import cv2\n",
    "vidcap = cv2.VideoCapture(r'Noisy Video.mp4')\n",
    "success,image = vidcap.read()\n",
    "count = 0\n",
    "while success:\n",
    "  cv2.imwrite(\"frame%d.jpg\" % count, image)\n",
    "  success,image = vidcap.read()\n",
    "  count += 1"
   ]
  },
  {
   "cell_type": "code",
   "execution_count": null,
   "metadata": {},
   "outputs": [],
   "source": [
    "###3x3:\n",
    "#Denoising\n",
    "import cv2\n",
    "import os\n",
    "\n",
    "c = 0\n",
    "while c <= 68:\n",
    "    frame = cv2.imread(r'C:\\Users\\hp\\Desktop\\Media\\Read Frames\\frame%d.jpg' % c)\n",
    "    blur = cv2.blur(frame,(3,3))\n",
    "\n",
    "    path = r'C:\\Users\\hp\\Desktop\\Media\\3x3 frames'\n",
    "    cv2.imwrite(os.path.join(path , '3x3frame%d.jpg' % c), blur)\n",
    "    c += 1\n",
    "    \n",
    "    \n",
    "#Collecting the videos back to make the video\n",
    "import os\n",
    "import moviepy.video.io.ImageSequenceClip\n",
    "\n",
    "image_folder = r'C:\\Users\\hp\\Desktop\\Media\\3x3 frames'\n",
    "fps=30\n",
    "\n",
    "image_files = []\n",
    "for img_number in range(0,68):\n",
    "    image_files.append(image_folder + r'\\3x3frame' + str(img_number) + '.jpg')\n",
    "clip = moviepy.video.io.ImageSequenceClip.ImageSequenceClip(image_files, fps=fps)\n",
    "clip.write_videofile('3x3video.mp4')"
   ]
  },
  {
   "cell_type": "code",
   "execution_count": null,
   "metadata": {},
   "outputs": [],
   "source": [
    "###5x5:\n",
    "#Denoising\n",
    "import cv2\n",
    "import os\n",
    "\n",
    "c2 = 0\n",
    "while c2 <= 68:\n",
    "    frame2 = cv2.imread(r'C:\\Users\\hp\\Desktop\\Media\\Read Frames\\frame%d.jpg' % c2)\n",
    "    blur2 = cv2.blur(frame2,(5,5))\n",
    "\n",
    "    path2 = r'C:\\Users\\hp\\Desktop\\Media\\5x5 frames'\n",
    "    cv2.imwrite(os.path.join(path2 , '5x5frame%d.jpg' % c2), blur2)\n",
    "    c2 += 1\n",
    "    \n",
    "    \n",
    "#Collecting the videos back to make the video\n",
    "import os\n",
    "import moviepy.video.io.ImageSequenceClip\n",
    "\n",
    "image_folder2 = r'C:\\Users\\hp\\Desktop\\Media\\5x5 frames'\n",
    "fps2=30\n",
    "\n",
    "image_files2 = []\n",
    "for img_number2 in range(0,68):\n",
    "    image_files2.append(image_folder2 + r'\\5x5frame' + str(img_number2) + '.jpg')\n",
    "clip2 = moviepy.video.io.ImageSequenceClip.ImageSequenceClip(image_files2, fps=fps2)\n",
    "clip2.write_videofile('5x5video.mp4')"
   ]
  },
  {
   "cell_type": "code",
   "execution_count": null,
   "metadata": {},
   "outputs": [],
   "source": [
    "###7x7:\n",
    "#Denoising\n",
    "import cv2\n",
    "import os\n",
    "\n",
    "c3 = 0\n",
    "while c3 <= 68:\n",
    "    frame3 = cv2.imread(r'C:\\Users\\hp\\Desktop\\Media\\Read Frames\\frame%d.jpg' % c3)\n",
    "    blur3 = cv2.blur(frame3,(7,7))\n",
    "\n",
    "    path3 = r'C:\\Users\\hp\\Desktop\\Media\\7x7 frames'\n",
    "    cv2.imwrite(os.path.join(path3 , '7x7frame%d.jpg' % c3), blur3)\n",
    "    c3 += 1\n",
    "    \n",
    "    \n",
    "#Collecting the videos back to make the video\n",
    "import os\n",
    "import moviepy.video.io.ImageSequenceClip\n",
    "\n",
    "image_folder3 = r'C:\\Users\\hp\\Desktop\\Media\\7x7 frames'\n",
    "fps3=30\n",
    "\n",
    "image_files3 = []\n",
    "for img_number3 in range(0,68):\n",
    "    image_files3.append(image_folder3 + r'\\7x7frame' + str(img_number3) + '.jpg')\n",
    "clip3 = moviepy.video.io.ImageSequenceClip.ImageSequenceClip(image_files3, fps=fps3)\n",
    "clip3.write_videofile('7x7video.mp4')"
   ]
  }
 ],
 "metadata": {
  "kernelspec": {
   "display_name": "Python 3",
   "language": "python",
   "name": "python3"
  },
  "language_info": {
   "codemirror_mode": {
    "name": "ipython",
    "version": 3
   },
   "file_extension": ".py",
   "mimetype": "text/x-python",
   "name": "python",
   "nbconvert_exporter": "python",
   "pygments_lexer": "ipython3",
   "version": "3.8.5"
  }
 },
 "nbformat": 4,
 "nbformat_minor": 4
}
